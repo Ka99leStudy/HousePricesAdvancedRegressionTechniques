{
  "nbformat": 4,
  "nbformat_minor": 0,
  "metadata": {
    "colab": {
      "name": "220214",
      "provenance": []
    },
    "kernelspec": {
      "name": "python3",
      "display_name": "Python 3"
    },
    "language_info": {
      "name": "python"
    }
  },
  "cells": [
    {
      "cell_type": "code",
      "source": [
        "import pandas as pd"
      ],
      "metadata": {
        "id": "EStvwcFAuHFd"
      },
      "execution_count": 1,
      "outputs": []
    },
    {
      "cell_type": "code",
      "source": [
        "data = pd.read_csv('/content/drive/MyDrive/Colab Notebooks/kaggle/house price/train.csv')\n",
        "test = pd.read_csv('/content/drive/MyDrive/Colab Notebooks/kaggle/house price/test.csv')"
      ],
      "metadata": {
        "id": "DCgIc_iwuQNB"
      },
      "execution_count": 2,
      "outputs": []
    },
    {
      "cell_type": "code",
      "source": [
        "num_feats = data.dtypes[data.dtypes != 'object'].index\n",
        "cat_feats = data.dtypes[data.dtypes == 'object'].index\n",
        "\n",
        "print('수치형 변수: ', len(num_feats))\n",
        "print('명목형 변수: ', len(cat_feats))"
      ],
      "metadata": {
        "colab": {
          "base_uri": "https://localhost:8080/"
        },
        "id": "WUCd7K6GoIgd",
        "outputId": "9d87c4f6-a6a3-4ca3-fec2-38ee5d7606a5"
      },
      "execution_count": 3,
      "outputs": [
        {
          "output_type": "stream",
          "name": "stdout",
          "text": [
            "수치형 변수:  38\n",
            "명목형 변수:  43\n"
          ]
        }
      ]
    },
    {
      "cell_type": "markdown",
      "source": [
        "* GrLivArea 이상치 제거"
      ],
      "metadata": {
        "id": "9Es6mkg2Hj8l"
      }
    },
    {
      "cell_type": "code",
      "source": [
        "data = data.drop(data[data['GrLivArea'] >= 4500].index)"
      ],
      "metadata": {
        "id": "G9g08yeIHiiN"
      },
      "execution_count": 4,
      "outputs": []
    },
    {
      "cell_type": "code",
      "source": [
        "all = pd.concat([data, test])\n",
        "all.shape"
      ],
      "metadata": {
        "colab": {
          "base_uri": "https://localhost:8080/"
        },
        "id": "S4vgatDs9As-",
        "outputId": "d1544d83-833a-4ae0-8548-d3eb51301e68"
      },
      "execution_count": 5,
      "outputs": [
        {
          "output_type": "execute_result",
          "data": {
            "text/plain": [
              "(2917, 81)"
            ]
          },
          "metadata": {},
          "execution_count": 5
        }
      ]
    },
    {
      "cell_type": "markdown",
      "source": [
        "* 결측 데이터 처리"
      ],
      "metadata": {
        "id": "OzZL7WZpDZ_1"
      }
    },
    {
      "cell_type": "code",
      "source": [
        "for col in cat_feats:\n",
        "    all[col].fillna('None', inplace = True)"
      ],
      "metadata": {
        "id": "rYsySf9CCEnV"
      },
      "execution_count": 6,
      "outputs": []
    },
    {
      "cell_type": "code",
      "source": [
        "for col in ['BsmtFinSF1', 'BsmtFinSF2', 'BsmtUnfSF', 'TotalBsmtSF', 'BsmtFullBath',\n",
        "            'BsmtHalfBath', 'MasVnrArea', 'GarageYrBlt', 'GarageCars', 'GarageArea']:\n",
        "    all[col].fillna(0, inplace = True)\n",
        "all.fillna(all.mean(), inplace = True)"
      ],
      "metadata": {
        "colab": {
          "base_uri": "https://localhost:8080/"
        },
        "id": "jE3-1SeFA7be",
        "outputId": "677a9256-a27c-4c19-d42d-93668221a522"
      },
      "execution_count": 7,
      "outputs": [
        {
          "output_type": "stream",
          "name": "stderr",
          "text": [
            "/usr/local/lib/python3.7/dist-packages/ipykernel_launcher.py:4: FutureWarning: Dropping of nuisance columns in DataFrame reductions (with 'numeric_only=None') is deprecated; in a future version this will raise TypeError.  Select only valid columns before calling the reduction.\n",
            "  after removing the cwd from sys.path.\n"
          ]
        }
      ]
    },
    {
      "cell_type": "code",
      "source": [
        "all.isna().sum().sum()"
      ],
      "metadata": {
        "colab": {
          "base_uri": "https://localhost:8080/"
        },
        "id": "lsFz0lD5Btj1",
        "outputId": "4d94000b-8faa-45eb-f493-9606b36cfc5b"
      },
      "execution_count": 8,
      "outputs": [
        {
          "output_type": "execute_result",
          "data": {
            "text/plain": [
              "0"
            ]
          },
          "metadata": {},
          "execution_count": 8
        }
      ]
    },
    {
      "cell_type": "markdown",
      "source": [
        "* 사칙연산"
      ],
      "metadata": {
        "id": "2JMyjd-ODeHc"
      }
    },
    {
      "cell_type": "code",
      "source": [
        "all['Total_sqr_footage'] = all['BsmtFinSF1'] + all['BsmtFinSF2'] + all['1stFlrSF'] + all['2ndFlrSF']\n",
        "all['Total_Bathrooms'] = all['FullBath'] + 0.5 * all['HalfBath'] + all['BsmtFullBath'] + 0.5 * all['BsmtHalfBath']\n",
        "all['Total_porch_sf'] = all['OpenPorchSF'] + all['3SsnPorch'] + all['EnclosedPorch'] + all['ScreenPorch'] + all['WoodDeckSF']\n",
        "all['TotalHouse'] = all['TotalBsmtSF'] + all['1stFlrSF'] + all['2ndFlrSF']\n",
        "all['TotalArea'] = all['TotalBsmtSF'] + all['1stFlrSF'] + all['2ndFlrSF'] + all['GarageArea']\n",
        "all['GrLivArea_OverallQual'] = all['GrLivArea'] * all['OverallQual']\n",
        "all['LotArea_OverallQual'] = all['LotArea'] * all['OverallQual']"
      ],
      "metadata": {
        "id": "urPAi9gccLok"
      },
      "execution_count": 9,
      "outputs": []
    },
    {
      "cell_type": "markdown",
      "source": [
        "* 있다/없다"
      ],
      "metadata": {
        "id": "AvjjHKhtDf0U"
      }
    },
    {
      "cell_type": "code",
      "source": [
        "all['haspool'] = all['PoolArea'].apply(lambda x: 1 if x > 0 else 0)\n",
        "all['hasgarage'] = all['GarageArea'].apply(lambda x: 1 if x > 0 else 0)\n",
        "all['hasbsmt'] = all['TotalBsmtSF'].apply(lambda x: 1 if x > 0 else 0)\n",
        "all['hasfireplace'] = all['Fireplaces'].apply(lambda x: 1 if x > 0 else 0)"
      ],
      "metadata": {
        "id": "UbzUvnpthb4U"
      },
      "execution_count": 10,
      "outputs": []
    },
    {
      "cell_type": "markdown",
      "source": [
        "* 연산에 사용된 변수들 제거"
      ],
      "metadata": {
        "id": "LIIJC2-hDg-s"
      }
    },
    {
      "cell_type": "code",
      "source": [
        "all = all.drop(['BsmtFinSF1', 'BsmtFinSF2', '1stFlrSF', '2ndFlrSF', 'FullBath', 'HalfBath',\n",
        "          'BsmtFullBath', 'BsmtHalfBath', 'OpenPorchSF', '3SsnPorch', 'EnclosedPorch',\n",
        "          'ScreenPorch', 'WoodDeckSF', 'TotalBsmtSF', 'GarageArea', 'GrLivArea',\n",
        "          'OverallQual', 'LotArea', 'PoolArea', 'GarageArea', 'Fireplaces', 'Id'], axis = 1)\n",
        "all.columns"
      ],
      "metadata": {
        "colab": {
          "base_uri": "https://localhost:8080/"
        },
        "id": "0LSFS4tn_Ipl",
        "outputId": "b02aa0f5-a116-4500-b0ba-2b86ebb3f060"
      },
      "execution_count": 11,
      "outputs": [
        {
          "output_type": "execute_result",
          "data": {
            "text/plain": [
              "Index(['MSSubClass', 'MSZoning', 'LotFrontage', 'Street', 'Alley', 'LotShape',\n",
              "       'LandContour', 'Utilities', 'LotConfig', 'LandSlope', 'Neighborhood',\n",
              "       'Condition1', 'Condition2', 'BldgType', 'HouseStyle', 'OverallCond',\n",
              "       'YearBuilt', 'YearRemodAdd', 'RoofStyle', 'RoofMatl', 'Exterior1st',\n",
              "       'Exterior2nd', 'MasVnrType', 'MasVnrArea', 'ExterQual', 'ExterCond',\n",
              "       'Foundation', 'BsmtQual', 'BsmtCond', 'BsmtExposure', 'BsmtFinType1',\n",
              "       'BsmtFinType2', 'BsmtUnfSF', 'Heating', 'HeatingQC', 'CentralAir',\n",
              "       'Electrical', 'LowQualFinSF', 'BedroomAbvGr', 'KitchenAbvGr',\n",
              "       'KitchenQual', 'TotRmsAbvGrd', 'Functional', 'FireplaceQu',\n",
              "       'GarageType', 'GarageYrBlt', 'GarageFinish', 'GarageCars', 'GarageQual',\n",
              "       'GarageCond', 'PavedDrive', 'PoolQC', 'Fence', 'MiscFeature', 'MiscVal',\n",
              "       'MoSold', 'YrSold', 'SaleType', 'SaleCondition', 'SalePrice',\n",
              "       'Total_sqr_footage', 'Total_Bathrooms', 'Total_porch_sf', 'TotalHouse',\n",
              "       'TotalArea', 'GrLivArea_OverallQual', 'LotArea_OverallQual', 'haspool',\n",
              "       'hasgarage', 'hasbsmt', 'hasfireplace'],\n",
              "      dtype='object')"
            ]
          },
          "metadata": {},
          "execution_count": 11
        }
      ]
    },
    {
      "cell_type": "markdown",
      "source": [
        "* One-Hot Encoding"
      ],
      "metadata": {
        "id": "Z1fTqiD8DyvU"
      }
    },
    {
      "cell_type": "code",
      "source": [
        "allc = pd.get_dummies(all)\n",
        "allc.columns"
      ],
      "metadata": {
        "colab": {
          "base_uri": "https://localhost:8080/"
        },
        "id": "9FIVh-JAASzN",
        "outputId": "b01d5849-e907-47e0-e640-a34044415ffc"
      },
      "execution_count": 12,
      "outputs": [
        {
          "output_type": "execute_result",
          "data": {
            "text/plain": [
              "Index(['MSSubClass', 'LotFrontage', 'OverallCond', 'YearBuilt', 'YearRemodAdd',\n",
              "       'MasVnrArea', 'BsmtUnfSF', 'LowQualFinSF', 'BedroomAbvGr',\n",
              "       'KitchenAbvGr',\n",
              "       ...\n",
              "       'SaleType_New', 'SaleType_None', 'SaleType_Oth', 'SaleType_WD',\n",
              "       'SaleCondition_Abnorml', 'SaleCondition_AdjLand',\n",
              "       'SaleCondition_Alloca', 'SaleCondition_Family', 'SaleCondition_Normal',\n",
              "       'SaleCondition_Partial'],\n",
              "      dtype='object', length=301)"
            ]
          },
          "metadata": {},
          "execution_count": 12
        }
      ]
    },
    {
      "cell_type": "code",
      "source": [
        "allc = allc.drop('SalePrice', axis = 1)"
      ],
      "metadata": {
        "id": "D1EtFCusaqLZ"
      },
      "execution_count": 12,
      "outputs": []
    },
    {
      "cell_type": "code",
      "source": [
        "from sklearn.preprocessing import StandardScaler\n",
        "scaler = StandardScaler()\n",
        "scaler.fit(allc)\n",
        "allcs = scaler.transform(allc)\n",
        "allcs"
      ],
      "metadata": {
        "colab": {
          "base_uri": "https://localhost:8080/"
        },
        "id": "FO0sDO1ZXFND",
        "outputId": "e664c408-2072-4306-834d-a2bb7ca12a67"
      },
      "execution_count": 13,
      "outputs": [
        {
          "output_type": "execute_result",
          "data": {
            "text/plain": [
              "array([[ 0.0673546 , -0.2009671 , -0.21643665, ..., -0.12657919,\n",
              "         0.46303851, -0.30145496],\n",
              "       [-0.87327191,  0.52010594, -0.06910838, ..., -0.12657919,\n",
              "         0.46303851, -0.30145496],\n",
              "       [ 0.0673546 , -0.05675249,  0.14227566, ..., -0.12657919,\n",
              "         0.46303851, -0.30145496],\n",
              "       ...,\n",
              "       [-0.87327191,  4.36582886,  1.26325161, ..., -0.12657919,\n",
              "        -2.15964758, -0.30145496],\n",
              "       [ 0.65524616, -0.34518171,  0.03863342, ..., -0.12657919,\n",
              "         0.46303851, -0.30145496],\n",
              "       [ 0.0673546 ,  0.23167673, -0.06564937, ..., -0.12657919,\n",
              "         0.46303851, -0.30145496]])"
            ]
          },
          "metadata": {},
          "execution_count": 13
        }
      ]
    },
    {
      "cell_type": "code",
      "source": [
        "from sklearn.decomposition import PCA\n",
        "pca = PCA(n_components = 50)\n",
        "pca.fit(allcs)\n",
        "\n",
        "allcsp = pca.transform(allcs)\n",
        "print('원본', str(allcs.shape))\n",
        "print('축소', str(allcsp.shape))"
      ],
      "metadata": {
        "colab": {
          "base_uri": "https://localhost:8080/"
        },
        "id": "OXrr1KBuXmpS",
        "outputId": "cfe2a534-1b53-4a4f-87b8-a424233e2afe"
      },
      "execution_count": 14,
      "outputs": [
        {
          "output_type": "stream",
          "name": "stdout",
          "text": [
            "원본 (2917, 313)\n",
            "축소 (2917, 50)\n"
          ]
        }
      ]
    },
    {
      "cell_type": "code",
      "source": [
        "import numpy as np\n",
        "import matplotlib.pyplot as plt"
      ],
      "metadata": {
        "id": "-WcprWvHYv0K"
      },
      "execution_count": 15,
      "outputs": []
    },
    {
      "cell_type": "code",
      "metadata": {
        "colab": {
          "base_uri": "https://localhost:8080/",
          "height": 297
        },
        "id": "GSvSiM5Qtlsi",
        "outputId": "ad26903f-8c0b-4cc6-9162-76b51eb0ad13"
      },
      "source": [
        "percent_variance = np.round(pca.explained_variance_ratio_* 100, decimals =2)\n",
        "columns = []\n",
        "for i in range(len(percent_variance)):\n",
        "    columns.append(f'PC{i+1}')\n",
        "    \n",
        "plt.figure(figsize = (20,6))\n",
        "ax = plt.bar(x = range(len(percent_variance)), height=percent_variance, tick_label=columns)\n",
        "plt.ylabel('Percentate of Variance Explained')\n",
        "plt.xlabel('Principal Component')\n",
        "plt.title('PCA Scree Plot')\n",
        "plt.show()"
      ],
      "execution_count": 16,
      "outputs": [
        {
          "output_type": "display_data",
          "data": {
            "image/png": "[encoded data removed]",
            "text/plain": [
              "<Figure size 1440x432 with 1 Axes>"
            ]
          },
          "metadata": {
            "needs_background": "light"
          }
        }
      ]
    },
    {
      "cell_type": "code",
      "metadata": {
        "colab": {
          "base_uri": "https://localhost:8080/",
          "height": 279
        },
        "id": "lkW8iVZGt3Ku",
        "outputId": "dd91a72e-c1d0-4136-adc6-236ca798200c"
      },
      "source": [
        "plt.plot(pca.explained_variance_ratio_)\n",
        "plt.axhline(y = 0.01, color = 'r', linewidth = 1)\n",
        "plt.xlabel('number of components')\n",
        "plt.ylabel('cumulative explained variance')\n",
        "plt.show()\n",
        "\n",
        "#PCA1 is at 0 in xscale"
      ],
      "execution_count": 17,
      "outputs": [
        {
          "output_type": "display_data",
          "data": {
            "image/png": "[encoded data removed]",
            "text/plain": [
              "<Figure size 432x288 with 1 Axes>"
            ]
          },
          "metadata": {
            "needs_background": "light"
          }
        }
      ]
    },
    {
      "cell_type": "code",
      "source": [
        "allcspd = pd.DataFrame(allcsp[:,:20], columns = [f'PC{i+1}' for i in range(20)])"
      ],
      "metadata": {
        "id": "dmRD2y9eYp5S"
      },
      "execution_count": 19,
      "outputs": []
    },
    {
      "cell_type": "code",
      "source": [
        "tr = allc[:len(data)]\n",
        "te = allc[len(data):]"
      ],
      "metadata": {
        "id": "LEwdq81YD2L8"
      },
      "execution_count": 13,
      "outputs": []
    },
    {
      "cell_type": "code",
      "source": [
        "import numpy as np\n",
        "from sklearn.model_selection import train_test_split"
      ],
      "metadata": {
        "id": "3qhnFtZn1lVs"
      },
      "execution_count": 14,
      "outputs": []
    },
    {
      "cell_type": "code",
      "source": [
        "X = tr.drop('SalePrice', axis = 1)\n",
        "y = np.log(tr['SalePrice'])\n",
        "\n",
        "X_tr, X_vld, y_tr, y_vld = train_test_split(X, y,\n",
        "                                         test_size = 0.2,\n",
        "                                         random_state = 2000)"
      ],
      "metadata": {
        "id": "4V80befx05KE"
      },
      "execution_count": 15,
      "outputs": []
    },
    {
      "cell_type": "markdown",
      "source": [
        "* XGBoost\n",
        "0.14076986038060366 <br>\n",
        "0.12317834376157624 (GrLivArea 이상치 2개 제거) <br>\n",
        "0.12457791739846666 (Id 변수 제거) <br>\n",
        "0.12487248942198959 (Exterior1st, 2nd 제거) <br>\n",
        "0.11369552964235004 (SalePrice 이상치 2개 제거) <br>\n",
        "0.1450483195114973 (PCA 20개) <br>\n",
        "0.11463115850108373 (xgb parameter 변경)"
      ],
      "metadata": {
        "id": "c19zj6lmEm2N"
      }
    },
    {
      "cell_type": "code",
      "source": [
        "import xgboost\n",
        "from sklearn.metrics import mean_squared_error"
      ],
      "metadata": {
        "id": "UWBRsUmaEP30"
      },
      "execution_count": 16,
      "outputs": []
    },
    {
      "cell_type": "code",
      "source": [
        "xgb = xgboost.XGBRegressor(objective = 'reg:squarederror', n_estimators = 3000,\n",
        "                           learning_rate = 0.05, max_depth =4)\n",
        "xgb.fit(X_tr, y_tr)\n",
        "print(mean_squared_error(y_vld, xgb.predict(X_vld))**0.5)"
      ],
      "metadata": {
        "colab": {
          "base_uri": "https://localhost:8080/"
        },
        "id": "zcDMfMnoEtPc",
        "outputId": "3374a50d-77b0-4400-dc13-691bee919b31"
      },
      "execution_count": 17,
      "outputs": [
        {
          "output_type": "stream",
          "name": "stdout",
          "text": [
            "0.11463115850108373\n"
          ]
        }
      ]
    },
    {
      "cell_type": "markdown",
      "source": [
        "* feature_importance"
      ],
      "metadata": {
        "id": "7lhAG1GnLEak"
      }
    },
    {
      "cell_type": "code",
      "source": [
        "import matplotlib.pyplot as plt\n",
        "import seaborn as sns"
      ],
      "metadata": {
        "id": "QdMa5jeALDl0"
      },
      "execution_count": 20,
      "outputs": []
    },
    {
      "cell_type": "markdown",
      "source": [
        "* Exterior2nd\n",
        "* Exterior1st"
      ],
      "metadata": {
        "id": "M1xvAR0MM6ms"
      }
    },
    {
      "cell_type": "code",
      "source": [
        "fi = xgb.feature_importances_\n",
        "fs = pd.Series(fi, index = X_tr.columns)\n",
        "ft = fs.sort_values(ascending = True)[:100]\n",
        "\n",
        "plt.figure(figsize = (8, 16))\n",
        "sns.barplot(x = ft, y = ft.index)"
      ],
      "metadata": {
        "colab": {
          "base_uri": "https://localhost:8080/",
          "height": 936
        },
        "id": "m09zRz4JKkN0",
        "outputId": "a316b5f1-5e66-45f2-9c1f-74e0479f03bf"
      },
      "execution_count": 21,
      "outputs": [
        {
          "output_type": "execute_result",
          "data": {
            "text/plain": [
              "<matplotlib.axes._subplots.AxesSubplot at 0x7f3aae5d3b50>"
            ]
          },
          "metadata": {},
          "execution_count": 21
        },
        {
          "output_type": "display_data",
          "data": {
            "image/png": "[encoded data removed]",
            "text/plain": [
              "<Figure size 576x1152 with 1 Axes>"
            ]
          },
          "metadata": {
            "needs_background": "light"
          }
        }
      ]
    },
    {
      "cell_type": "markdown",
      "source": [
        "* submission"
      ],
      "metadata": {
        "id": "w8cHKyOFFlf9"
      }
    },
    {
      "cell_type": "code",
      "source": [
        "sub = pd.DataFrame()\n",
        "sub['ID'] = test['Id']\n",
        "sub['SalePrice'] = np.exp(xgb.predict(te.drop('SalePrice', axis = 1)))\n",
        "\n",
        "sub.to_csv('xgb.csv', index = False)"
      ],
      "metadata": {
        "id": "sq6-um-dE16E"
      },
      "execution_count": 18,
      "outputs": []
    }
  ]
}