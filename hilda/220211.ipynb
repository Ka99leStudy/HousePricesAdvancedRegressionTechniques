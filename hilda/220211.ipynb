{
  "nbformat": 4,
  "nbformat_minor": 0,
  "metadata": {
    "colab": {
      "name": "220211",
      "provenance": []
    },
    "kernelspec": {
      "name": "python3",
      "display_name": "Python 3"
    },
    "language_info": {
      "name": "python"
    }
  },
  "cells": [
    {
      "cell_type": "code",
      "source": [
        "import pandas as pd"
      ],
      "metadata": {
        "id": "EStvwcFAuHFd"
      },
      "execution_count": 1,
      "outputs": []
    },
    {
      "cell_type": "code",
      "source": [
        "data = pd.read_csv('/content/drive/MyDrive/Colab Notebooks/kaggle/house price/train.csv')\n",
        "test = pd.read_csv('/content/drive/MyDrive/Colab Notebooks/kaggle/house price/test.csv')"
      ],
      "metadata": {
        "id": "DCgIc_iwuQNB"
      },
      "execution_count": 2,
      "outputs": []
    },
    {
      "cell_type": "code",
      "source": [
        "data.columns"
      ],
      "metadata": {
        "colab": {
          "base_uri": "https://localhost:8080/"
        },
        "id": "OgLlUwbAmCaN",
        "outputId": "f658574e-c0fa-4e15-9493-a6852fd8d3a7"
      },
      "execution_count": 3,
      "outputs": [
        {
          "output_type": "execute_result",
          "data": {
            "text/plain": [
              "Index(['Id', 'MSSubClass', 'MSZoning', 'LotFrontage', 'LotArea', 'Street',\n",
              "       'Alley', 'LotShape', 'LandContour', 'Utilities', 'LotConfig',\n",
              "       'LandSlope', 'Neighborhood', 'Condition1', 'Condition2', 'BldgType',\n",
              "       'HouseStyle', 'OverallQual', 'OverallCond', 'YearBuilt', 'YearRemodAdd',\n",
              "       'RoofStyle', 'RoofMatl', 'Exterior1st', 'Exterior2nd', 'MasVnrType',\n",
              "       'MasVnrArea', 'ExterQual', 'ExterCond', 'Foundation', 'BsmtQual',\n",
              "       'BsmtCond', 'BsmtExposure', 'BsmtFinType1', 'BsmtFinSF1',\n",
              "       'BsmtFinType2', 'BsmtFinSF2', 'BsmtUnfSF', 'TotalBsmtSF', 'Heating',\n",
              "       'HeatingQC', 'CentralAir', 'Electrical', '1stFlrSF', '2ndFlrSF',\n",
              "       'LowQualFinSF', 'GrLivArea', 'BsmtFullBath', 'BsmtHalfBath', 'FullBath',\n",
              "       'HalfBath', 'BedroomAbvGr', 'KitchenAbvGr', 'KitchenQual',\n",
              "       'TotRmsAbvGrd', 'Functional', 'Fireplaces', 'FireplaceQu', 'GarageType',\n",
              "       'GarageYrBlt', 'GarageFinish', 'GarageCars', 'GarageArea', 'GarageQual',\n",
              "       'GarageCond', 'PavedDrive', 'WoodDeckSF', 'OpenPorchSF',\n",
              "       'EnclosedPorch', '3SsnPorch', 'ScreenPorch', 'PoolArea', 'PoolQC',\n",
              "       'Fence', 'MiscFeature', 'MiscVal', 'MoSold', 'YrSold', 'SaleType',\n",
              "       'SaleCondition', 'SalePrice'],\n",
              "      dtype='object')"
            ]
          },
          "metadata": {},
          "execution_count": 3
        }
      ]
    },
    {
      "cell_type": "code",
      "source": [
        "data.shape"
      ],
      "metadata": {
        "colab": {
          "base_uri": "https://localhost:8080/"
        },
        "id": "g0WOaqbQnoQV",
        "outputId": "a94a7524-c62a-4bc4-bf0b-e37a17629750"
      },
      "execution_count": 4,
      "outputs": [
        {
          "output_type": "execute_result",
          "data": {
            "text/plain": [
              "(1460, 81)"
            ]
          },
          "metadata": {},
          "execution_count": 4
        }
      ]
    },
    {
      "cell_type": "code",
      "source": [
        "num_feats = data.dtypes[data.dtypes != 'object'].index\n",
        "cat_feats = data.dtypes[data.dtypes == 'object'].index\n",
        "\n",
        "print('수치형 변수: ', len(num_feats))\n",
        "print('명목형 변수: ', len(cat_feats))"
      ],
      "metadata": {
        "colab": {
          "base_uri": "https://localhost:8080/"
        },
        "id": "WUCd7K6GoIgd",
        "outputId": "34139961-c7b3-4afc-e648-bb9ab00d384b"
      },
      "execution_count": 5,
      "outputs": [
        {
          "output_type": "stream",
          "name": "stdout",
          "text": [
            "수치형 변수:  38\n",
            "명목형 변수:  43\n"
          ]
        }
      ]
    },
    {
      "cell_type": "code",
      "source": [
        "num_st = data[num_feats].corr().abs().nlargest(11, 'SalePrice')['SalePrice'].index\n",
        "cat_st = ['MSZoning', 'Neighborhood', 'Condition2', 'MasVnrType', 'ExterQual',\n",
        "'BsmtQual', 'CentralAir', 'Electrical', 'KitchenQual', 'SaleType']"
      ],
      "metadata": {
        "id": "y9xWAGuHpaVN"
      },
      "execution_count": 6,
      "outputs": []
    },
    {
      "cell_type": "code",
      "source": [
        "all = pd.concat([data, test])\n",
        "all.shape"
      ],
      "metadata": {
        "colab": {
          "base_uri": "https://localhost:8080/"
        },
        "id": "TMwL1TjXtxvs",
        "outputId": "a3768fdc-69e7-460f-d737-e8e2b87d435e"
      },
      "execution_count": 7,
      "outputs": [
        {
          "output_type": "execute_result",
          "data": {
            "text/plain": [
              "(2919, 81)"
            ]
          },
          "metadata": {},
          "execution_count": 7
        }
      ]
    },
    {
      "cell_type": "code",
      "source": [
        "allc = pd.concat([all[num_st], all[cat_st]], axis = 1)"
      ],
      "metadata": {
        "id": "USCqjJlqsqqt"
      },
      "execution_count": 8,
      "outputs": []
    },
    {
      "cell_type": "code",
      "source": [
        "allc.isna().sum().sort_values(ascending = False)"
      ],
      "metadata": {
        "colab": {
          "base_uri": "https://localhost:8080/"
        },
        "id": "orl1qMimssRN",
        "outputId": "4bd9ac94-9d46-4328-e803-2366a6b3800e"
      },
      "execution_count": 9,
      "outputs": [
        {
          "output_type": "execute_result",
          "data": {
            "text/plain": [
              "SalePrice       1459\n",
              "BsmtQual          81\n",
              "MasVnrType        24\n",
              "MSZoning           4\n",
              "KitchenQual        1\n",
              "Electrical         1\n",
              "SaleType           1\n",
              "TotalBsmtSF        1\n",
              "GarageArea         1\n",
              "GarageCars         1\n",
              "FullBath           0\n",
              "TotRmsAbvGrd       0\n",
              "YearBuilt          0\n",
              "OverallQual        0\n",
              "1stFlrSF           0\n",
              "Neighborhood       0\n",
              "Condition2         0\n",
              "ExterQual          0\n",
              "CentralAir         0\n",
              "GrLivArea          0\n",
              "YearRemodAdd       0\n",
              "dtype: int64"
            ]
          },
          "metadata": {},
          "execution_count": 9
        }
      ]
    },
    {
      "cell_type": "markdown",
      "source": [
        "* BsmtQual 'None' 처리"
      ],
      "metadata": {
        "id": "9Oe3TMoiw4o1"
      }
    },
    {
      "cell_type": "code",
      "source": [
        "allc['BsmtQual'].fillna('None', inplace = True)"
      ],
      "metadata": {
        "id": "C3IIwwzYutOs"
      },
      "execution_count": 10,
      "outputs": []
    },
    {
      "cell_type": "markdown",
      "source": [
        "* OneHotEncoding"
      ],
      "metadata": {
        "id": "ZR_F0wUR3_Zg"
      }
    },
    {
      "cell_type": "code",
      "source": [
        "allc = pd.get_dummies(allc)"
      ],
      "metadata": {
        "id": "ngS1Xw3a4NDs"
      },
      "execution_count": 11,
      "outputs": []
    },
    {
      "cell_type": "markdown",
      "source": [
        "* 있다/없다"
      ],
      "metadata": {
        "id": "DEqzLxKs4XAL"
      }
    },
    {
      "cell_type": "code",
      "source": [
        "allc['GarageArea'] = allc['GarageArea'].apply(lambda x: 1 if x > 0 else 0)\n",
        "allc['TotalBsmtSF'] = allc['TotalBsmtSF'].apply(lambda x: 1 if x > 0 else 0)"
      ],
      "metadata": {
        "id": "rrVEO-9R4YJ8"
      },
      "execution_count": 12,
      "outputs": []
    },
    {
      "cell_type": "markdown",
      "source": [
        "* GrLivArea 이상치 제거"
      ],
      "metadata": {
        "id": "gECN2Uz4x2f8"
      }
    },
    {
      "cell_type": "code",
      "source": [
        "tr = allc[:len(data)]\n",
        "te = allc[len(data):]"
      ],
      "metadata": {
        "id": "TT60hIv57M3r"
      },
      "execution_count": 13,
      "outputs": []
    },
    {
      "cell_type": "code",
      "source": [
        "tr.plot.scatter(x = 'GrLivArea', y = 'SalePrice')"
      ],
      "metadata": {
        "colab": {
          "base_uri": "https://localhost:8080/",
          "height": 297
        },
        "id": "qhTGyy8qwMms",
        "outputId": "cafd10a1-9bf1-463d-8101-5f29884da9cd"
      },
      "execution_count": 14,
      "outputs": [
        {
          "output_type": "execute_result",
          "data": {
            "text/plain": [
              "<matplotlib.axes._subplots.AxesSubplot at 0x7f7f4929d9d0>"
            ]
          },
          "metadata": {},
          "execution_count": 14
        },
        {
          "output_type": "display_data",
          "data": {
            "image/png": "[encoded data removed]",
            "text/plain": [
              "<Figure size 432x288 with 1 Axes>"
            ]
          },
          "metadata": {
            "needs_background": "light"
          }
        }
      ]
    },
    {
      "cell_type": "code",
      "source": [
        "tr = tr.drop(tr[tr['GrLivArea'] >= 4500].index)"
      ],
      "metadata": {
        "id": "3qPboJN2y96r"
      },
      "execution_count": 15,
      "outputs": []
    },
    {
      "cell_type": "code",
      "source": [
        "import numpy as np\n",
        "from sklearn.model_selection import train_test_split"
      ],
      "metadata": {
        "id": "3qhnFtZn1lVs"
      },
      "execution_count": 16,
      "outputs": []
    },
    {
      "cell_type": "code",
      "source": [
        "X = tr.drop('SalePrice', axis = 1)\n",
        "y = np.log(tr['SalePrice'])\n",
        "\n",
        "X_tr, X_vld, y_tr, y_vld = train_test_split(X, y,\n",
        "                                         test_size = 0.2,\n",
        "                                         random_state = 2000)"
      ],
      "metadata": {
        "id": "4V80befx05KE"
      },
      "execution_count": 17,
      "outputs": []
    },
    {
      "cell_type": "markdown",
      "source": [
        "* xgboost"
      ],
      "metadata": {
        "id": "xlPGtxCy5gRg"
      }
    },
    {
      "cell_type": "code",
      "source": [
        "import xgboost\n",
        "from sklearn.metrics import mean_squared_error"
      ],
      "metadata": {
        "id": "9bfar9Io3C-b"
      },
      "execution_count": 18,
      "outputs": []
    },
    {
      "cell_type": "code",
      "source": [
        "xgb = xgboost.XGBRegressor()\n",
        "xgb.fit(X_tr, y_tr)\n",
        "print(mean_squared_error(y_vld, xgb.predict(X_vld))**0.5)"
      ],
      "metadata": {
        "colab": {
          "base_uri": "https://localhost:8080/"
        },
        "id": "qp1jZia11gEB",
        "outputId": "bc6c953f-54c7-4de3-df5c-1e88615c126a"
      },
      "execution_count": 19,
      "outputs": [
        {
          "output_type": "stream",
          "name": "stdout",
          "text": [
            "[08:37:23] WARNING: /workspace/src/objective/regression_obj.cu:152: reg:linear is now deprecated in favor of reg:squarederror.\n",
            "0.1498358127185642\n"
          ]
        }
      ]
    },
    {
      "cell_type": "markdown",
      "source": [
        "* submission"
      ],
      "metadata": {
        "id": "ECgr6FXk5h6j"
      }
    },
    {
      "cell_type": "code",
      "source": [
        "sub = pd.DataFrame()\n",
        "sub['ID'] = test['Id']\n",
        "sub['SalePrice'] = np.exp(xgb.predict(te.drop('SalePrice', axis = 1)))\n",
        "\n",
        "sub.to_csv('xgb.csv', index = False)"
      ],
      "metadata": {
        "id": "WBd98PhO3Ycy"
      },
      "execution_count": 21,
      "outputs": []
    },
    {
      "cell_type": "code",
      "source": [
        ""
      ],
      "metadata": {
        "id": "2iSQ_C4_51pK"
      },
      "execution_count": null,
      "outputs": []
    }
  ]
}